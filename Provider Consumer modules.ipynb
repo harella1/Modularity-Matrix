{
 "cells": [
  {
   "cell_type": "markdown",
   "metadata": {},
   "source": [
    "# MATRIX CALCULATIONS with NUMPY\n",
    "####    from Harel Wallach-15Oct2019- modified by Iaakov1-15Oct2019\n",
    "####    modified Harel Wallach-17Oct2019"
   ]
  },
  {
   "cell_type": "code",
   "execution_count": 1,
   "metadata": {},
   "outputs": [],
   "source": [
    "import numpy as np\n",
    "from numpy import linalg as LA\n",
    "import math"
   ]
  },
  {
   "cell_type": "markdown",
   "metadata": {},
   "source": [
    "Paste matrices as tab-separated"
   ]
  },
  {
   "cell_type": "code",
   "execution_count": 2,
   "metadata": {},
   "outputs": [],
   "source": [
    "provider_str = \"\"\"\n",
    "1\t0\t0\t0\t0\t0\t0\n",
    "0\t1\t0\t0\t0\t0\t0\n",
    "0\t0\t1\t0\t0\t0\t0\n",
    "0\t0\t0\t1\t0\t0\t0\n",
    "0\t0\t0\t0\t1\t0\t0\n",
    "0\t0\t0\t0\t0\t1\t0\n",
    "0\t0\t0\t0\t0\t0\t1\n",
    "\"\"\"\n",
    "\n",
    "consumer_str = \"\"\"\n",
    "0\t0\t0\t0\t0\t0\t0\n",
    "1\t0\t0\t0\t0\t0\t0\n",
    "1\t0\t0\t1\t1\t1\t1\n",
    "1\t0\t0\t0\t0\t0\t0\n",
    "1\t0\t0\t0\t0\t0\t0\n",
    "1\t0\t0\t0\t0\t0\t0\n",
    "1\t0\t0\t0\t0\t0\t0\n",
    "\"\"\""
   ]
  },
  {
   "cell_type": "markdown",
   "metadata": {},
   "source": [
    "Read the matrices into Numpy"
   ]
  },
  {
   "cell_type": "code",
   "execution_count": 3,
   "metadata": {},
   "outputs": [],
   "source": [
    "#provider_str = provider_str.replace('\\t','\\t0 ')\n",
    "mat = np.fromstring(provider_str, dtype=int, sep='\\t')  # Matrix mat elements from mstring\n",
    "dim = int(math.sqrt(mat.size))    # Matrix Dimension dim from matrix mat\n",
    "provider_mat = np.reshape(mat, (dim, dim))  # reshape Matrix mat to square\n",
    "\n",
    "#consumer_str = consumer_str.replace('\\t','\\t0 ')\n",
    "mat = np.fromstring(consumer_str, dtype=int, sep='\\t')  # Matrix mat elements from mstring\n",
    "dim = int(math.sqrt(mat.size))    # Matrix Dimension dim from matrix mat\n",
    "consumer_mat = np.reshape(mat, (dim, dim))  # reshape Matrix mat to square"
   ]
  },
  {
   "cell_type": "code",
   "execution_count": 4,
   "metadata": {},
   "outputs": [],
   "source": [
    "provider_wheight = 2\n",
    "consumer_wheight = 1\n",
    "union_mat = provider_mat*provider_wheight + consumer_mat*consumer_wheight"
   ]
  },
  {
   "cell_type": "code",
   "execution_count": 5,
   "metadata": {},
   "outputs": [
    {
     "name": "stdout",
     "output_type": "stream",
     "text": [
      "==provider_mat==\n",
      " [[1 0 0 0 0 0 0]\n",
      " [0 1 0 0 0 0 0]\n",
      " [0 0 1 0 0 0 0]\n",
      " [0 0 0 1 0 0 0]\n",
      " [0 0 0 0 1 0 0]\n",
      " [0 0 0 0 0 1 0]\n",
      " [0 0 0 0 0 0 1]]\n",
      "\n",
      "==consumer_mat==\n",
      " [[0 0 0 0 0 0 0]\n",
      " [1 0 0 0 0 0 0]\n",
      " [1 0 0 1 1 1 1]\n",
      " [1 0 0 0 0 0 0]\n",
      " [1 0 0 0 0 0 0]\n",
      " [1 0 0 0 0 0 0]\n",
      " [1 0 0 0 0 0 0]]\n",
      "\n",
      "==union_mat==\n",
      " [[2 0 0 0 0 0 0]\n",
      " [1 2 0 0 0 0 0]\n",
      " [1 0 2 1 1 1 1]\n",
      " [1 0 0 2 0 0 0]\n",
      " [1 0 0 0 2 0 0]\n",
      " [1 0 0 0 0 2 0]\n",
      " [1 0 0 0 0 0 2]]\n"
     ]
    }
   ],
   "source": [
    "print('==provider_mat==\\n', provider_mat)\n",
    "print('\\n==consumer_mat==\\n', consumer_mat)\n",
    "print('\\n==union_mat==\\n', union_mat)"
   ]
  },
  {
   "cell_type": "code",
   "execution_count": 12,
   "metadata": {},
   "outputs": [],
   "source": [
    "## This is used for further iterations\n",
    "#union_str = \"\"\"\n",
    "#2\t1\t1\t1\t1\n",
    "#0\t2\t0\t0\t0\n",
    "#0\t0\t2\t0\t0\n",
    "#0\t0\t0\t2\t0\n",
    "#0\t0\t0\t0\t2\n",
    "#\"\"\"\n",
    "#mat = np.fromstring(union_str, dtype=int, sep='\\t')  # Matrix mat elements from mstring\n",
    "#dim = int(math.sqrt(mat.size))    # Matrix Dimension dim from matrix mat\n",
    "#union_mat = np.reshape(mat, (dim, dim))  # reshape Matrix mat to square"
   ]
  },
  {
   "cell_type": "code",
   "execution_count": 13,
   "metadata": {},
   "outputs": [],
   "source": [
    "row_sum = np.sum(union_mat,axis = 1, dtype=int)\n",
    "col_sum = np.sum(union_mat,axis = 0, dtype=int)\n",
    "deg = np.diag(np.concatenate((col_sum,row_sum)))"
   ]
  },
  {
   "cell_type": "code",
   "execution_count": 15,
   "metadata": {},
   "outputs": [],
   "source": [
    "adj = np.block([[np.zeros((dim,dim)),union_mat.T],\t\n",
    "               [union_mat, np.zeros((dim,dim))]])\n",
    "laplacian = np.matrix(deg-adj, dtype=int)"
   ]
  },
  {
   "cell_type": "code",
   "execution_count": 16,
   "metadata": {},
   "outputs": [
    {
     "name": "stdout",
     "output_type": "stream",
     "text": [
      "==laplacian==\n",
      " [[ 8  0  0  0  0  0  0 -2 -1 -1 -1 -1 -1 -1]\n",
      " [ 0  2  0  0  0  0  0  0 -2  0  0  0  0  0]\n",
      " [ 0  0  2  0  0  0  0  0  0 -2  0  0  0  0]\n",
      " [ 0  0  0  3  0  0  0  0  0 -1 -2  0  0  0]\n",
      " [ 0  0  0  0  3  0  0  0  0 -1  0 -2  0  0]\n",
      " [ 0  0  0  0  0  3  0  0  0 -1  0  0 -2  0]\n",
      " [ 0  0  0  0  0  0  3  0  0 -1  0  0  0 -2]\n",
      " [-2  0  0  0  0  0  0  2  0  0  0  0  0  0]\n",
      " [-1 -2  0  0  0  0  0  0  3  0  0  0  0  0]\n",
      " [-1  0 -2 -1 -1 -1 -1  0  0  7  0  0  0  0]\n",
      " [-1  0  0 -2  0  0  0  0  0  0  3  0  0  0]\n",
      " [-1  0  0  0 -2  0  0  0  0  0  0  3  0  0]\n",
      " [-1  0  0  0  0 -2  0  0  0  0  0  0  3  0]\n",
      " [-1  0  0  0  0  0 -2  0  0  0  0  0  0  3]]\n"
     ]
    }
   ],
   "source": [
    "print('==laplacian==\\n', laplacian)"
   ]
  },
  {
   "cell_type": "code",
   "execution_count": 17,
   "metadata": {},
   "outputs": [],
   "source": [
    "# Iaakov: added COMPUTATIONS\n",
    "# Matrix RANK\n",
    "sqmat_rank = np.linalg.matrix_rank(laplacian)\n",
    "# Matrix TRACE\n",
    "sqmat_trace = np.trace(laplacian)\n",
    "# the EIGENV computation\n",
    "v, w = LA.eig(laplacian)\n",
    "res = np.vstack([v,w])"
   ]
  },
  {
   "cell_type": "code",
   "execution_count": 18,
   "metadata": {},
   "outputs": [
    {
     "name": "stdout",
     "output_type": "stream",
     "text": [
      "\n",
      "==== MATRIX CALCULATIONS with NUMPY ====\n",
      "\n",
      "INPUT MATRIX\n",
      "[[ 8  0  0  0  0  0  0 -2 -1 -1 -1 -1 -1 -1]\n",
      " [ 0  2  0  0  0  0  0  0 -2  0  0  0  0  0]\n",
      " [ 0  0  2  0  0  0  0  0  0 -2  0  0  0  0]\n",
      " [ 0  0  0  3  0  0  0  0  0 -1 -2  0  0  0]\n",
      " [ 0  0  0  0  3  0  0  0  0 -1  0 -2  0  0]\n",
      " [ 0  0  0  0  0  3  0  0  0 -1  0  0 -2  0]\n",
      " [ 0  0  0  0  0  0  3  0  0 -1  0  0  0 -2]\n",
      " [-2  0  0  0  0  0  0  2  0  0  0  0  0  0]\n",
      " [-1 -2  0  0  0  0  0  0  3  0  0  0  0  0]\n",
      " [-1  0 -2 -1 -1 -1 -1  0  0  7  0  0  0  0]\n",
      " [-1  0  0 -2  0  0  0  0  0  0  3  0  0  0]\n",
      " [-1  0  0  0 -2  0  0  0  0  0  0  3  0  0]\n",
      " [-1  0  0  0  0 -2  0  0  0  0  0  0  3  0]\n",
      " [-1  0  0  0  0  0 -2  0  0  0  0  0  0  3]]\n",
      "\n",
      "--->Matrix RANK:  13\n",
      "-->Matrix TRACE: 48\n",
      "\n",
      " EIGENVALUES\n",
      "[10.009 7.775 4.226 0.000 1.643 1.348 0.438 4.562 1.000 5.000 5.000 5.000 1.000 1.000]\n",
      "\n",
      " EIGENVECTORS\n",
      "[[0.764 0.491 0.224 -0.267 0.119 0.200 0.000 -0.000 0.000 0.000 -0.000 0.000 0.000 0.000]\n",
      " [0.029 0.042 -0.352 -0.267 -0.068 -0.137 0.719 0.512 0.000 -0.000 -0.000 0.000 0.000 0.000]\n",
      " [0.119 -0.260 0.170 -0.267 0.546 -0.689 -0.174 0.124 -0.000 0.000 -0.000 0.000 -0.000 -0.000]\n",
      " [0.108 -0.138 -0.272 -0.267 -0.172 -0.023 -0.136 -0.159 -0.387 0.346 0.095 -0.451 0.097 0.501]\n",
      " [0.108 -0.138 -0.272 -0.267 -0.172 -0.023 -0.136 -0.159 -0.310 -0.590 0.368 -0.214 0.150 -0.349]\n",
      " [0.108 -0.138 -0.272 -0.267 -0.172 -0.023 -0.136 -0.159 0.272 0.159 0.122 0.454 -0.591 -0.317]\n",
      " [0.108 -0.138 -0.272 -0.267 -0.172 -0.023 -0.136 -0.159 0.425 0.085 -0.584 0.212 0.344 0.165]\n",
      " [-0.191 -0.170 -0.201 -0.267 0.668 0.614 0.000 -0.000 0.000 -0.000 0.000 -0.000 0.000 0.000]\n",
      " [-0.117 -0.120 0.391 -0.267 -0.012 -0.045 0.561 -0.656 0.000 0.000 0.000 -0.000 0.000 0.000]\n",
      " [-0.476 0.750 -0.189 -0.267 0.098 -0.225 -0.136 -0.159 -0.000 -0.000 0.000 -0.000 -0.000 -0.000]\n",
      " [-0.140 -0.045 0.261 -0.267 -0.166 0.093 -0.106 0.204 -0.387 -0.346 -0.095 0.451 0.097 0.501]\n",
      " [-0.140 -0.045 0.261 -0.267 -0.166 0.093 -0.106 0.204 -0.310 0.590 -0.368 0.214 0.150 -0.349]\n",
      " [-0.140 -0.045 0.261 -0.267 -0.166 0.093 -0.106 0.204 0.272 -0.159 -0.122 -0.454 -0.591 -0.317]\n",
      " [-0.140 -0.045 0.261 -0.267 -0.166 0.093 -0.106 0.204 0.425 -0.085 0.584 -0.212 0.344 0.165]]\n",
      "\n",
      " EIGENVALUES & related EIGENVECTORS\n",
      "[[10.009 7.775 4.226 0.000 1.643 1.348 0.438 4.562 1.000 5.000 5.000 5.000 1.000 1.000]\n",
      " [0.764 0.491 0.224 -0.267 0.119 0.200 0.000 -0.000 0.000 0.000 -0.000 0.000 0.000 0.000]\n",
      " [0.029 0.042 -0.352 -0.267 -0.068 -0.137 0.719 0.512 0.000 -0.000 -0.000 0.000 0.000 0.000]\n",
      " [0.119 -0.260 0.170 -0.267 0.546 -0.689 -0.174 0.124 -0.000 0.000 -0.000 0.000 -0.000 -0.000]\n",
      " [0.108 -0.138 -0.272 -0.267 -0.172 -0.023 -0.136 -0.159 -0.387 0.346 0.095 -0.451 0.097 0.501]\n",
      " [0.108 -0.138 -0.272 -0.267 -0.172 -0.023 -0.136 -0.159 -0.310 -0.590 0.368 -0.214 0.150 -0.349]\n",
      " [0.108 -0.138 -0.272 -0.267 -0.172 -0.023 -0.136 -0.159 0.272 0.159 0.122 0.454 -0.591 -0.317]\n",
      " [0.108 -0.138 -0.272 -0.267 -0.172 -0.023 -0.136 -0.159 0.425 0.085 -0.584 0.212 0.344 0.165]\n",
      " [-0.191 -0.170 -0.201 -0.267 0.668 0.614 0.000 -0.000 0.000 -0.000 0.000 -0.000 0.000 0.000]\n",
      " [-0.117 -0.120 0.391 -0.267 -0.012 -0.045 0.561 -0.656 0.000 0.000 0.000 -0.000 0.000 0.000]\n",
      " [-0.476 0.750 -0.189 -0.267 0.098 -0.225 -0.136 -0.159 -0.000 -0.000 0.000 -0.000 -0.000 -0.000]\n",
      " [-0.140 -0.045 0.261 -0.267 -0.166 0.093 -0.106 0.204 -0.387 -0.346 -0.095 0.451 0.097 0.501]\n",
      " [-0.140 -0.045 0.261 -0.267 -0.166 0.093 -0.106 0.204 -0.310 0.590 -0.368 0.214 0.150 -0.349]\n",
      " [-0.140 -0.045 0.261 -0.267 -0.166 0.093 -0.106 0.204 0.272 -0.159 -0.122 -0.454 -0.591 -0.317]\n",
      " [-0.140 -0.045 0.261 -0.267 -0.166 0.093 -0.106 0.204 0.425 -0.085 0.584 -0.212 0.344 0.165]]\n"
     ]
    }
   ],
   "source": [
    "# Iaakov: changed PRINTING precision from 10 to 2\n",
    "np.set_printoptions(linewidth=200, precision=2,formatter={'float_kind':'{:5.3f}'.format},)\n",
    "\n",
    "# Iaakov: more pretty PRINTING\n",
    "print('\\n==== MATRIX CALCULATIONS with NUMPY ====')\n",
    "print('\\nINPUT MATRIX')\n",
    "print(laplacian)\n",
    "print(\"\\n--->Matrix RANK: \", sqmat_rank)\n",
    "print(\"-->Matrix TRACE:\", sqmat_trace)\n",
    "print('\\n EIGENVALUES')\n",
    "print(v[:None])  # Eigenvalues\n",
    "print('\\n EIGENVECTORS')\n",
    "print(w)         # Eigenvectors\n",
    "print('\\n EIGENVALUES & related EIGENVECTORS')\n",
    "print(res)      "
   ]
  }
 ],
 "metadata": {
  "kernelspec": {
   "display_name": "Python 3",
   "language": "python",
   "name": "python3"
  },
  "language_info": {
   "codemirror_mode": {
    "name": "ipython",
    "version": 3
   },
   "file_extension": ".py",
   "mimetype": "text/x-python",
   "name": "python",
   "nbconvert_exporter": "python",
   "pygments_lexer": "ipython3",
   "version": "3.7.1"
  }
 },
 "nbformat": 4,
 "nbformat_minor": 4
}