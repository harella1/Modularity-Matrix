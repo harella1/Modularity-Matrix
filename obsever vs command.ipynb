{
 "cells": [
  {
   "cell_type": "code",
   "execution_count": 41,
   "metadata": {},
   "outputs": [],
   "source": [
    "import numpy as np\n",
    "from numpy import linalg as LA\n",
    "import math\n",
    "import pandas as pd\n",
    "import matplotlib as mpl\n",
    "import matplotlib.pyplot as plt\n",
    "\n",
    "def GetEigen_WithWeights (Prov_mat, Cons_mat, Prov_Weight, Cons_Weight):\n",
    "    dim  = int(math.sqrt(Prov_mat.size))\n",
    "    union_mat = Prov_mat*Prov_Weight + Cons_mat*Cons_Weight\n",
    "    row_sum = np.sum(union_mat,axis = 1) #functionals sum\n",
    "    col_sum = np.sum(union_mat,axis = 0) #structors sum\n",
    "    deg_mat = np.diag(np.concatenate((row_sum,col_sum))) #functionals first\n",
    "    adj_mat = np.block([[np.zeros((dim,dim)),union_mat], [union_mat.T, np.zeros((dim,dim))]])\n",
    "    laplacian = np.matrix(deg_mat-adj_mat)\n",
    "    w,v = LA.eig(laplacian)\n",
    "    #print(np.around(v,4),np.around(w,4))\n",
    "    fiedler_idx = np.argsort(w)[1]\n",
    "    #print(Cons_Weight,fiedler_idx,v)\n",
    "    fiedler_value = w[fiedler_idx]\n",
    "    fiedler_vector = v[:,fiedler_idx]\n",
    "    return union_mat,laplacian, fiedler_value,fiedler_vector"
   ]
  },
  {
   "cell_type": "code",
   "execution_count": 42,
   "metadata": {},
   "outputs": [],
   "source": [
    "Provider_weight = 1\n",
    "Consumer_weights = [1.2, 1.5, 2, 4, 8, 16, 32, 64]"
   ]
  },
  {
   "cell_type": "markdown",
   "metadata": {},
   "source": [
    "## observer"
   ]
  },
  {
   "cell_type": "code",
   "execution_count": 43,
   "metadata": {},
   "outputs": [],
   "source": [
    "provider_str = \"\"\"\n",
    "1\t0\t0\t0\t0\t0\t0   0\n",
    "1\t1\t0\t0\t0\t0\t0   0\n",
    "0\t1\t1\t0\t0\t0\t0   0\n",
    "0\t0\t0\t1\t0\t0\t0   0\n",
    "0\t0\t0\t1\t1\t0\t0   0\n",
    "0\t0\t0\t0\t0\t1\t0   0\n",
    "0\t0\t0\t0\t0\t0\t1   0\n",
    "0\t0\t0\t0\t0\t1\t1   1\n",
    "\"\"\"\n",
    "\n",
    "consumer_str = \"\"\"\n",
    "0\t0\t0\t0\t0\t0\t0   0\n",
    "0\t0\t1\t0\t0\t0\t0   0\n",
    "0\t0\t0\t1\t0\t0\t0   0\n",
    "0\t0\t0\t0\t0\t0\t0   1\n",
    "1\t0\t0\t0\t0\t0\t0   0\n",
    "0\t0\t0\t0\t0\t0\t0   0\n",
    "0\t0\t0\t0\t0\t0\t0   0\n",
    "0\t0\t0\t0\t0\t0\t0   0\n",
    "\"\"\"\n",
    "\n",
    "mat = np.fromstring(provider_str, dtype=int, sep='\\t')  # Matrix mat elements from mstring\n",
    "dim = int(math.sqrt(mat.size))    # Matrix Dimension dim from matrix mat\n",
    "provider_mat = np.reshape(mat, (dim, dim))  # reshape Matrix mat to square\n",
    "\n",
    "mat = np.fromstring(consumer_str, dtype=int, sep='\\t')  # Matrix mat elements from mstring\n",
    "consumer_mat = np.reshape(mat, (dim, dim))  # reshape Matrix mat to square"
   ]
  },
  {
   "cell_type": "code",
   "execution_count": 48,
   "metadata": {},
   "outputs": [
    {
     "data": {
      "text/html": "<style  type=\"text/css\" >\n    #T_f180a2b4_1a57_11ea_bd5c_c83dd440757erow0_col0 {\n            background-color:  #fc7f00;\n            color:  #000000;\n        }    #T_f180a2b4_1a57_11ea_bd5c_c83dd440757erow0_col1 {\n            background-color:  #ffbd00;\n            color:  #000000;\n        }    #T_f180a2b4_1a57_11ea_bd5c_c83dd440757erow0_col2 {\n            background-color:  #e4ff7a;\n            color:  #000000;\n        }    #T_f180a2b4_1a57_11ea_bd5c_c83dd440757erow0_col3 {\n            background-color:  #e4ff7a;\n            color:  #000000;\n        }    #T_f180a2b4_1a57_11ea_bd5c_c83dd440757erow0_col4 {\n            background-color:  #fc7f00;\n            color:  #000000;\n        }    #T_f180a2b4_1a57_11ea_bd5c_c83dd440757erow1_col0 {\n            background-color:  #e4ff7a;\n            color:  #000000;\n        }    #T_f180a2b4_1a57_11ea_bd5c_c83dd440757erow1_col1 {\n            background-color:  #ffbd00;\n            color:  #000000;\n        }    #T_f180a2b4_1a57_11ea_bd5c_c83dd440757erow1_col2 {\n            background-color:  #e4ff7a;\n            color:  #000000;\n        }    #T_f180a2b4_1a57_11ea_bd5c_c83dd440757erow1_col3 {\n            background-color:  #e4ff7a;\n            color:  #000000;\n        }    #T_f180a2b4_1a57_11ea_bd5c_c83dd440757erow1_col4 {\n            background-color:  #e4ff7a;\n            color:  #000000;\n        }    #T_f180a2b4_1a57_11ea_bd5c_c83dd440757erow2_col0 {\n            background-color:  #e4ff7a;\n            color:  #000000;\n        }    #T_f180a2b4_1a57_11ea_bd5c_c83dd440757erow2_col1 {\n            background-color:  #fc7f00;\n            color:  #000000;\n        }    #T_f180a2b4_1a57_11ea_bd5c_c83dd440757erow2_col2 {\n            background-color:  #fc7f00;\n            color:  #000000;\n        }    #T_f180a2b4_1a57_11ea_bd5c_c83dd440757erow2_col3 {\n            background-color:  #fc7f00;\n            color:  #000000;\n        }    #T_f180a2b4_1a57_11ea_bd5c_c83dd440757erow2_col4 {\n            background-color:  #e4ff7a;\n            color:  #000000;\n        }    #T_f180a2b4_1a57_11ea_bd5c_c83dd440757erow3_col0 {\n            background-color:  #e4ff7a;\n            color:  #000000;\n        }    #T_f180a2b4_1a57_11ea_bd5c_c83dd440757erow3_col1 {\n            background-color:  #e4ff7a;\n            color:  #000000;\n        }    #T_f180a2b4_1a57_11ea_bd5c_c83dd440757erow3_col2 {\n            background-color:  #e4ff7a;\n            color:  #000000;\n        }    #T_f180a2b4_1a57_11ea_bd5c_c83dd440757erow3_col3 {\n            background-color:  #fc7f00;\n            color:  #000000;\n        }    #T_f180a2b4_1a57_11ea_bd5c_c83dd440757erow3_col4 {\n            background-color:  #e4ff7a;\n            color:  #000000;\n        }    #T_f180a2b4_1a57_11ea_bd5c_c83dd440757erow4_col0 {\n            background-color:  #e4ff7a;\n            color:  #000000;\n        }    #T_f180a2b4_1a57_11ea_bd5c_c83dd440757erow4_col1 {\n            background-color:  #e4ff7a;\n            color:  #000000;\n        }    #T_f180a2b4_1a57_11ea_bd5c_c83dd440757erow4_col2 {\n            background-color:  #e4ff7a;\n            color:  #000000;\n        }    #T_f180a2b4_1a57_11ea_bd5c_c83dd440757erow4_col3 {\n            background-color:  #e4ff7a;\n            color:  #000000;\n        }    #T_f180a2b4_1a57_11ea_bd5c_c83dd440757erow4_col4 {\n            background-color:  #ffbd00;\n            color:  #000000;\n        }</style><table id=\"T_f180a2b4_1a57_11ea_bd5c_c83dd440757e\" ><caption>UNION</caption><thead>    <tr>        <th class=\"blank level0\" ></th>        <th class=\"col_heading level0 col0\" >S1</th>        <th class=\"col_heading level0 col1\" >S2</th>        <th class=\"col_heading level0 col2\" >S3</th>        <th class=\"col_heading level0 col3\" >S4</th>        <th class=\"col_heading level0 col4\" >S5</th>    </tr></thead><tbody>\n                <tr>\n                        <th id=\"T_f180a2b4_1a57_11ea_bd5c_c83dd440757elevel0_row0\" class=\"row_heading level0 row0\" >F1</th>\n                        <td id=\"T_f180a2b4_1a57_11ea_bd5c_c83dd440757erow0_col0\" class=\"data row0 col0\" >1</td>\n                        <td id=\"T_f180a2b4_1a57_11ea_bd5c_c83dd440757erow0_col1\" class=\"data row0 col1\" >1</td>\n                        <td id=\"T_f180a2b4_1a57_11ea_bd5c_c83dd440757erow0_col2\" class=\"data row0 col2\" >0</td>\n                        <td id=\"T_f180a2b4_1a57_11ea_bd5c_c83dd440757erow0_col3\" class=\"data row0 col3\" >0</td>\n                        <td id=\"T_f180a2b4_1a57_11ea_bd5c_c83dd440757erow0_col4\" class=\"data row0 col4\" >2</td>\n            </tr>\n            <tr>\n                        <th id=\"T_f180a2b4_1a57_11ea_bd5c_c83dd440757elevel0_row1\" class=\"row_heading level0 row1\" >F2</th>\n                        <td id=\"T_f180a2b4_1a57_11ea_bd5c_c83dd440757erow1_col0\" class=\"data row1 col0\" >0</td>\n                        <td id=\"T_f180a2b4_1a57_11ea_bd5c_c83dd440757erow1_col1\" class=\"data row1 col1\" >1</td>\n                        <td id=\"T_f180a2b4_1a57_11ea_bd5c_c83dd440757erow1_col2\" class=\"data row1 col2\" >0</td>\n                        <td id=\"T_f180a2b4_1a57_11ea_bd5c_c83dd440757erow1_col3\" class=\"data row1 col3\" >0</td>\n                        <td id=\"T_f180a2b4_1a57_11ea_bd5c_c83dd440757erow1_col4\" class=\"data row1 col4\" >0</td>\n            </tr>\n            <tr>\n                        <th id=\"T_f180a2b4_1a57_11ea_bd5c_c83dd440757elevel0_row2\" class=\"row_heading level0 row2\" >F3</th>\n                        <td id=\"T_f180a2b4_1a57_11ea_bd5c_c83dd440757erow2_col0\" class=\"data row2 col0\" >0</td>\n                        <td id=\"T_f180a2b4_1a57_11ea_bd5c_c83dd440757erow2_col1\" class=\"data row2 col1\" >2</td>\n                        <td id=\"T_f180a2b4_1a57_11ea_bd5c_c83dd440757erow2_col2\" class=\"data row2 col2\" >1</td>\n                        <td id=\"T_f180a2b4_1a57_11ea_bd5c_c83dd440757erow2_col3\" class=\"data row2 col3\" >1</td>\n                        <td id=\"T_f180a2b4_1a57_11ea_bd5c_c83dd440757erow2_col4\" class=\"data row2 col4\" >0</td>\n            </tr>\n            <tr>\n                        <th id=\"T_f180a2b4_1a57_11ea_bd5c_c83dd440757elevel0_row3\" class=\"row_heading level0 row3\" >F4</th>\n                        <td id=\"T_f180a2b4_1a57_11ea_bd5c_c83dd440757erow3_col0\" class=\"data row3 col0\" >0</td>\n                        <td id=\"T_f180a2b4_1a57_11ea_bd5c_c83dd440757erow3_col1\" class=\"data row3 col1\" >0</td>\n                        <td id=\"T_f180a2b4_1a57_11ea_bd5c_c83dd440757erow3_col2\" class=\"data row3 col2\" >0</td>\n                        <td id=\"T_f180a2b4_1a57_11ea_bd5c_c83dd440757erow3_col3\" class=\"data row3 col3\" >1</td>\n                        <td id=\"T_f180a2b4_1a57_11ea_bd5c_c83dd440757erow3_col4\" class=\"data row3 col4\" >0</td>\n            </tr>\n            <tr>\n                        <th id=\"T_f180a2b4_1a57_11ea_bd5c_c83dd440757elevel0_row4\" class=\"row_heading level0 row4\" >F5</th>\n                        <td id=\"T_f180a2b4_1a57_11ea_bd5c_c83dd440757erow4_col0\" class=\"data row4 col0\" >0</td>\n                        <td id=\"T_f180a2b4_1a57_11ea_bd5c_c83dd440757erow4_col1\" class=\"data row4 col1\" >0</td>\n                        <td id=\"T_f180a2b4_1a57_11ea_bd5c_c83dd440757erow4_col2\" class=\"data row4 col2\" >0</td>\n                        <td id=\"T_f180a2b4_1a57_11ea_bd5c_c83dd440757erow4_col3\" class=\"data row4 col3\" >0</td>\n                        <td id=\"T_f180a2b4_1a57_11ea_bd5c_c83dd440757erow4_col4\" class=\"data row4 col4\" >1</td>\n            </tr>\n    </tbody></table>",
      "text/plain": "<pandas.io.formats.style.Styler at 0x1d1f3809760>"
     },
     "metadata": {},
     "output_type": "display_data"
    },
    {
     "data": {
      "text/html": "<style  type=\"text/css\" >\n    #T_f199984e_1a57_11ea_a28b_c83dd440757erow0_col0 {\n            background-color:  #fc7f00;\n            color:  #000000;\n        }    #T_f199984e_1a57_11ea_a28b_c83dd440757erow0_col1 {\n            background-color:  #ffbd00;\n            color:  #000000;\n        }    #T_f199984e_1a57_11ea_a28b_c83dd440757erow0_col2 {\n            background-color:  #ffda11;\n            color:  #000000;\n        }    #T_f199984e_1a57_11ea_a28b_c83dd440757erow0_col3 {\n            background-color:  #ffbd00;\n            color:  #000000;\n        }    #T_f199984e_1a57_11ea_a28b_c83dd440757erow0_col4 {\n            background-color:  #ffbd00;\n            color:  #000000;\n        }    #T_f199984e_1a57_11ea_a28b_c83dd440757erow0_col5 {\n            background-color:  #e4ff7a;\n            color:  #000000;\n        }    #T_f199984e_1a57_11ea_a28b_c83dd440757erow0_col6 {\n            background-color:  #f6f03b;\n            color:  #000000;\n        }    #T_f199984e_1a57_11ea_a28b_c83dd440757erow0_col7 {\n            background-color:  #ffbd00;\n            color:  #000000;\n        }    #T_f199984e_1a57_11ea_a28b_c83dd440757erow0_col8 {\n            background-color:  #ffda11;\n            color:  #000000;\n        }    #T_f199984e_1a57_11ea_a28b_c83dd440757erow0_col9 {\n            background-color:  #e4ff7a;\n            color:  #000000;\n        }    #T_f199984e_1a57_11ea_a28b_c83dd440757erow1_col0 {\n            background-color:  #ffda11;\n            color:  #000000;\n        }    #T_f199984e_1a57_11ea_a28b_c83dd440757erow1_col1 {\n            background-color:  #fc7f00;\n            color:  #000000;\n        }    #T_f199984e_1a57_11ea_a28b_c83dd440757erow1_col2 {\n            background-color:  #ffda11;\n            color:  #000000;\n        }    #T_f199984e_1a57_11ea_a28b_c83dd440757erow1_col3 {\n            background-color:  #ffbd00;\n            color:  #000000;\n        }    #T_f199984e_1a57_11ea_a28b_c83dd440757erow1_col4 {\n            background-color:  #ffbd00;\n            color:  #000000;\n        }    #T_f199984e_1a57_11ea_a28b_c83dd440757erow1_col5 {\n            background-color:  #ffbd00;\n            color:  #000000;\n        }    #T_f199984e_1a57_11ea_a28b_c83dd440757erow1_col6 {\n            background-color:  #f6f03b;\n            color:  #000000;\n        }    #T_f199984e_1a57_11ea_a28b_c83dd440757erow1_col7 {\n            background-color:  #ffbd00;\n            color:  #000000;\n        }    #T_f199984e_1a57_11ea_a28b_c83dd440757erow1_col8 {\n            background-color:  #ffda11;\n            color:  #000000;\n        }    #T_f199984e_1a57_11ea_a28b_c83dd440757erow1_col9 {\n            background-color:  #ffce0a;\n            color:  #000000;\n        }    #T_f199984e_1a57_11ea_a28b_c83dd440757erow2_col0 {\n            background-color:  #ffda11;\n            color:  #000000;\n        }    #T_f199984e_1a57_11ea_a28b_c83dd440757erow2_col1 {\n            background-color:  #ffbd00;\n            color:  #000000;\n        }    #T_f199984e_1a57_11ea_a28b_c83dd440757erow2_col2 {\n            background-color:  #fc7f00;\n            color:  #000000;\n        }    #T_f199984e_1a57_11ea_a28b_c83dd440757erow2_col3 {\n            background-color:  #ffbd00;\n            color:  #000000;\n        }    #T_f199984e_1a57_11ea_a28b_c83dd440757erow2_col4 {\n            background-color:  #ffbd00;\n            color:  #000000;\n        }    #T_f199984e_1a57_11ea_a28b_c83dd440757erow2_col5 {\n            background-color:  #ffbd00;\n            color:  #000000;\n        }    #T_f199984e_1a57_11ea_a28b_c83dd440757erow2_col6 {\n            background-color:  #e4ff7a;\n            color:  #000000;\n        }    #T_f199984e_1a57_11ea_a28b_c83dd440757erow2_col7 {\n            background-color:  #e4ff7a;\n            color:  #000000;\n        }    #T_f199984e_1a57_11ea_a28b_c83dd440757erow2_col8 {\n            background-color:  #e4ff7a;\n            color:  #000000;\n        }    #T_f199984e_1a57_11ea_a28b_c83dd440757erow2_col9 {\n            background-color:  #ffce0a;\n            color:  #000000;\n        }    #T_f199984e_1a57_11ea_a28b_c83dd440757erow3_col0 {\n            background-color:  #ffda11;\n            color:  #000000;\n        }    #T_f199984e_1a57_11ea_a28b_c83dd440757erow3_col1 {\n            background-color:  #ffbd00;\n            color:  #000000;\n        }    #T_f199984e_1a57_11ea_a28b_c83dd440757erow3_col2 {\n            background-color:  #ffda11;\n            color:  #000000;\n        }    #T_f199984e_1a57_11ea_a28b_c83dd440757erow3_col3 {\n            background-color:  #fc7f00;\n            color:  #000000;\n        }    #T_f199984e_1a57_11ea_a28b_c83dd440757erow3_col4 {\n            background-color:  #ffbd00;\n            color:  #000000;\n        }    #T_f199984e_1a57_11ea_a28b_c83dd440757erow3_col5 {\n            background-color:  #ffbd00;\n            color:  #000000;\n        }    #T_f199984e_1a57_11ea_a28b_c83dd440757erow3_col6 {\n            background-color:  #ffda11;\n            color:  #000000;\n        }    #T_f199984e_1a57_11ea_a28b_c83dd440757erow3_col7 {\n            background-color:  #ffbd00;\n            color:  #000000;\n        }    #T_f199984e_1a57_11ea_a28b_c83dd440757erow3_col8 {\n            background-color:  #e4ff7a;\n            color:  #000000;\n        }    #T_f199984e_1a57_11ea_a28b_c83dd440757erow3_col9 {\n            background-color:  #ffce0a;\n            color:  #000000;\n        }    #T_f199984e_1a57_11ea_a28b_c83dd440757erow4_col0 {\n            background-color:  #ffda11;\n            color:  #000000;\n        }    #T_f199984e_1a57_11ea_a28b_c83dd440757erow4_col1 {\n            background-color:  #ffbd00;\n            color:  #000000;\n        }    #T_f199984e_1a57_11ea_a28b_c83dd440757erow4_col2 {\n            background-color:  #ffda11;\n            color:  #000000;\n        }    #T_f199984e_1a57_11ea_a28b_c83dd440757erow4_col3 {\n            background-color:  #ffbd00;\n            color:  #000000;\n        }    #T_f199984e_1a57_11ea_a28b_c83dd440757erow4_col4 {\n            background-color:  #fc7f00;\n            color:  #000000;\n        }    #T_f199984e_1a57_11ea_a28b_c83dd440757erow4_col5 {\n            background-color:  #ffbd00;\n            color:  #000000;\n        }    #T_f199984e_1a57_11ea_a28b_c83dd440757erow4_col6 {\n            background-color:  #ffda11;\n            color:  #000000;\n        }    #T_f199984e_1a57_11ea_a28b_c83dd440757erow4_col7 {\n            background-color:  #ffbd00;\n            color:  #000000;\n        }    #T_f199984e_1a57_11ea_a28b_c83dd440757erow4_col8 {\n            background-color:  #ffda11;\n            color:  #000000;\n        }    #T_f199984e_1a57_11ea_a28b_c83dd440757erow4_col9 {\n            background-color:  #faed2d;\n            color:  #000000;\n        }    #T_f199984e_1a57_11ea_a28b_c83dd440757erow5_col0 {\n            background-color:  #f6f03b;\n            color:  #000000;\n        }    #T_f199984e_1a57_11ea_a28b_c83dd440757erow5_col1 {\n            background-color:  #ffbd00;\n            color:  #000000;\n        }    #T_f199984e_1a57_11ea_a28b_c83dd440757erow5_col2 {\n            background-color:  #ffda11;\n            color:  #000000;\n        }    #T_f199984e_1a57_11ea_a28b_c83dd440757erow5_col3 {\n            background-color:  #ffbd00;\n            color:  #000000;\n        }    #T_f199984e_1a57_11ea_a28b_c83dd440757erow5_col4 {\n            background-color:  #ffbd00;\n            color:  #000000;\n        }    #T_f199984e_1a57_11ea_a28b_c83dd440757erow5_col5 {\n            background-color:  #fc7f00;\n            color:  #000000;\n        }    #T_f199984e_1a57_11ea_a28b_c83dd440757erow5_col6 {\n            background-color:  #ffda11;\n            color:  #000000;\n        }    #T_f199984e_1a57_11ea_a28b_c83dd440757erow5_col7 {\n            background-color:  #ffbd00;\n            color:  #000000;\n        }    #T_f199984e_1a57_11ea_a28b_c83dd440757erow5_col8 {\n            background-color:  #ffda11;\n            color:  #000000;\n        }    #T_f199984e_1a57_11ea_a28b_c83dd440757erow5_col9 {\n            background-color:  #ffce0a;\n            color:  #000000;\n        }    #T_f199984e_1a57_11ea_a28b_c83dd440757erow6_col0 {\n            background-color:  #f6f03b;\n            color:  #000000;\n        }    #T_f199984e_1a57_11ea_a28b_c83dd440757erow6_col1 {\n            background-color:  #e4ff7a;\n            color:  #000000;\n        }    #T_f199984e_1a57_11ea_a28b_c83dd440757erow6_col2 {\n            background-color:  #e4ff7a;\n            color:  #000000;\n        }    #T_f199984e_1a57_11ea_a28b_c83dd440757erow6_col3 {\n            background-color:  #ffbd00;\n            color:  #000000;\n        }    #T_f199984e_1a57_11ea_a28b_c83dd440757erow6_col4 {\n            background-color:  #ffbd00;\n            color:  #000000;\n        }    #T_f199984e_1a57_11ea_a28b_c83dd440757erow6_col5 {\n            background-color:  #ffbd00;\n            color:  #000000;\n        }    #T_f199984e_1a57_11ea_a28b_c83dd440757erow6_col6 {\n            background-color:  #fc7f00;\n            color:  #000000;\n        }    #T_f199984e_1a57_11ea_a28b_c83dd440757erow6_col7 {\n            background-color:  #ffbd00;\n            color:  #000000;\n        }    #T_f199984e_1a57_11ea_a28b_c83dd440757erow6_col8 {\n            background-color:  #ffda11;\n            color:  #000000;\n        }    #T_f199984e_1a57_11ea_a28b_c83dd440757erow6_col9 {\n            background-color:  #ffce0a;\n            color:  #000000;\n        }    #T_f199984e_1a57_11ea_a28b_c83dd440757erow7_col0 {\n            background-color:  #ffda11;\n            color:  #000000;\n        }    #T_f199984e_1a57_11ea_a28b_c83dd440757erow7_col1 {\n            background-color:  #ffbd00;\n            color:  #000000;\n        }    #T_f199984e_1a57_11ea_a28b_c83dd440757erow7_col2 {\n            background-color:  #f6f03b;\n            color:  #000000;\n        }    #T_f199984e_1a57_11ea_a28b_c83dd440757erow7_col3 {\n            background-color:  #ffbd00;\n            color:  #000000;\n        }    #T_f199984e_1a57_11ea_a28b_c83dd440757erow7_col4 {\n            background-color:  #ffbd00;\n            color:  #000000;\n        }    #T_f199984e_1a57_11ea_a28b_c83dd440757erow7_col5 {\n            background-color:  #ffbd00;\n            color:  #000000;\n        }    #T_f199984e_1a57_11ea_a28b_c83dd440757erow7_col6 {\n            background-color:  #ffda11;\n            color:  #000000;\n        }    #T_f199984e_1a57_11ea_a28b_c83dd440757erow7_col7 {\n            background-color:  #fc7f00;\n            color:  #000000;\n        }    #T_f199984e_1a57_11ea_a28b_c83dd440757erow7_col8 {\n            background-color:  #ffda11;\n            color:  #000000;\n        }    #T_f199984e_1a57_11ea_a28b_c83dd440757erow7_col9 {\n            background-color:  #ffce0a;\n            color:  #000000;\n        }    #T_f199984e_1a57_11ea_a28b_c83dd440757erow8_col0 {\n            background-color:  #ffda11;\n            color:  #000000;\n        }    #T_f199984e_1a57_11ea_a28b_c83dd440757erow8_col1 {\n            background-color:  #ffbd00;\n            color:  #000000;\n        }    #T_f199984e_1a57_11ea_a28b_c83dd440757erow8_col2 {\n            background-color:  #f6f03b;\n            color:  #000000;\n        }    #T_f199984e_1a57_11ea_a28b_c83dd440757erow8_col3 {\n            background-color:  #e4ff7a;\n            color:  #000000;\n        }    #T_f199984e_1a57_11ea_a28b_c83dd440757erow8_col4 {\n            background-color:  #ffbd00;\n            color:  #000000;\n        }    #T_f199984e_1a57_11ea_a28b_c83dd440757erow8_col5 {\n            background-color:  #ffbd00;\n            color:  #000000;\n        }    #T_f199984e_1a57_11ea_a28b_c83dd440757erow8_col6 {\n            background-color:  #ffda11;\n            color:  #000000;\n        }    #T_f199984e_1a57_11ea_a28b_c83dd440757erow8_col7 {\n            background-color:  #ffbd00;\n            color:  #000000;\n        }    #T_f199984e_1a57_11ea_a28b_c83dd440757erow8_col8 {\n            background-color:  #fc7f00;\n            color:  #000000;\n        }    #T_f199984e_1a57_11ea_a28b_c83dd440757erow8_col9 {\n            background-color:  #ffce0a;\n            color:  #000000;\n        }    #T_f199984e_1a57_11ea_a28b_c83dd440757erow9_col0 {\n            background-color:  #e4ff7a;\n            color:  #000000;\n        }    #T_f199984e_1a57_11ea_a28b_c83dd440757erow9_col1 {\n            background-color:  #ffbd00;\n            color:  #000000;\n        }    #T_f199984e_1a57_11ea_a28b_c83dd440757erow9_col2 {\n            background-color:  #ffda11;\n            color:  #000000;\n        }    #T_f199984e_1a57_11ea_a28b_c83dd440757erow9_col3 {\n            background-color:  #ffbd00;\n            color:  #000000;\n        }    #T_f199984e_1a57_11ea_a28b_c83dd440757erow9_col4 {\n            background-color:  #e4ff7a;\n            color:  #000000;\n        }    #T_f199984e_1a57_11ea_a28b_c83dd440757erow9_col5 {\n            background-color:  #ffbd00;\n            color:  #000000;\n        }    #T_f199984e_1a57_11ea_a28b_c83dd440757erow9_col6 {\n            background-color:  #ffda11;\n            color:  #000000;\n        }    #T_f199984e_1a57_11ea_a28b_c83dd440757erow9_col7 {\n            background-color:  #ffbd00;\n            color:  #000000;\n        }    #T_f199984e_1a57_11ea_a28b_c83dd440757erow9_col8 {\n            background-color:  #ffda11;\n            color:  #000000;\n        }    #T_f199984e_1a57_11ea_a28b_c83dd440757erow9_col9 {\n            background-color:  #fc7f00;\n            color:  #000000;\n        }</style><table id=\"T_f199984e_1a57_11ea_a28b_c83dd440757e\" ><caption>LAPLACIAN (D-A)</caption><thead>    <tr>        <th class=\"blank level0\" ></th>        <th class=\"col_heading level0 col0\" >F1</th>        <th class=\"col_heading level0 col1\" >F2</th>        <th class=\"col_heading level0 col2\" >F3</th>        <th class=\"col_heading level0 col3\" >F4</th>        <th class=\"col_heading level0 col4\" >F5</th>        <th class=\"col_heading level0 col5\" >S1</th>        <th class=\"col_heading level0 col6\" >S2</th>        <th class=\"col_heading level0 col7\" >S3</th>        <th class=\"col_heading level0 col8\" >S4</th>        <th class=\"col_heading level0 col9\" >S5</th>    </tr></thead><tbody>\n                <tr>\n                        <th id=\"T_f199984e_1a57_11ea_a28b_c83dd440757elevel0_row0\" class=\"row_heading level0 row0\" >F1</th>\n                        <td id=\"T_f199984e_1a57_11ea_a28b_c83dd440757erow0_col0\" class=\"data row0 col0\" >4</td>\n                        <td id=\"T_f199984e_1a57_11ea_a28b_c83dd440757erow0_col1\" class=\"data row0 col1\" >0</td>\n                        <td id=\"T_f199984e_1a57_11ea_a28b_c83dd440757erow0_col2\" class=\"data row0 col2\" >0</td>\n                        <td id=\"T_f199984e_1a57_11ea_a28b_c83dd440757erow0_col3\" class=\"data row0 col3\" >0</td>\n                        <td id=\"T_f199984e_1a57_11ea_a28b_c83dd440757erow0_col4\" class=\"data row0 col4\" >0</td>\n                        <td id=\"T_f199984e_1a57_11ea_a28b_c83dd440757erow0_col5\" class=\"data row0 col5\" >-1</td>\n                        <td id=\"T_f199984e_1a57_11ea_a28b_c83dd440757erow0_col6\" class=\"data row0 col6\" >-1</td>\n                        <td id=\"T_f199984e_1a57_11ea_a28b_c83dd440757erow0_col7\" class=\"data row0 col7\" >0</td>\n                        <td id=\"T_f199984e_1a57_11ea_a28b_c83dd440757erow0_col8\" class=\"data row0 col8\" >0</td>\n                        <td id=\"T_f199984e_1a57_11ea_a28b_c83dd440757erow0_col9\" class=\"data row0 col9\" >-2</td>\n            </tr>\n            <tr>\n                        <th id=\"T_f199984e_1a57_11ea_a28b_c83dd440757elevel0_row1\" class=\"row_heading level0 row1\" >F2</th>\n                        <td id=\"T_f199984e_1a57_11ea_a28b_c83dd440757erow1_col0\" class=\"data row1 col0\" >0</td>\n                        <td id=\"T_f199984e_1a57_11ea_a28b_c83dd440757erow1_col1\" class=\"data row1 col1\" >1</td>\n                        <td id=\"T_f199984e_1a57_11ea_a28b_c83dd440757erow1_col2\" class=\"data row1 col2\" >0</td>\n                        <td id=\"T_f199984e_1a57_11ea_a28b_c83dd440757erow1_col3\" class=\"data row1 col3\" >0</td>\n                        <td id=\"T_f199984e_1a57_11ea_a28b_c83dd440757erow1_col4\" class=\"data row1 col4\" >0</td>\n                        <td id=\"T_f199984e_1a57_11ea_a28b_c83dd440757erow1_col5\" class=\"data row1 col5\" >0</td>\n                        <td id=\"T_f199984e_1a57_11ea_a28b_c83dd440757erow1_col6\" class=\"data row1 col6\" >-1</td>\n                        <td id=\"T_f199984e_1a57_11ea_a28b_c83dd440757erow1_col7\" class=\"data row1 col7\" >0</td>\n                        <td id=\"T_f199984e_1a57_11ea_a28b_c83dd440757erow1_col8\" class=\"data row1 col8\" >0</td>\n                        <td id=\"T_f199984e_1a57_11ea_a28b_c83dd440757erow1_col9\" class=\"data row1 col9\" >0</td>\n            </tr>\n            <tr>\n                        <th id=\"T_f199984e_1a57_11ea_a28b_c83dd440757elevel0_row2\" class=\"row_heading level0 row2\" >F3</th>\n                        <td id=\"T_f199984e_1a57_11ea_a28b_c83dd440757erow2_col0\" class=\"data row2 col0\" >0</td>\n                        <td id=\"T_f199984e_1a57_11ea_a28b_c83dd440757erow2_col1\" class=\"data row2 col1\" >0</td>\n                        <td id=\"T_f199984e_1a57_11ea_a28b_c83dd440757erow2_col2\" class=\"data row2 col2\" >4</td>\n                        <td id=\"T_f199984e_1a57_11ea_a28b_c83dd440757erow2_col3\" class=\"data row2 col3\" >0</td>\n                        <td id=\"T_f199984e_1a57_11ea_a28b_c83dd440757erow2_col4\" class=\"data row2 col4\" >0</td>\n                        <td id=\"T_f199984e_1a57_11ea_a28b_c83dd440757erow2_col5\" class=\"data row2 col5\" >0</td>\n                        <td id=\"T_f199984e_1a57_11ea_a28b_c83dd440757erow2_col6\" class=\"data row2 col6\" >-2</td>\n                        <td id=\"T_f199984e_1a57_11ea_a28b_c83dd440757erow2_col7\" class=\"data row2 col7\" >-1</td>\n                        <td id=\"T_f199984e_1a57_11ea_a28b_c83dd440757erow2_col8\" class=\"data row2 col8\" >-1</td>\n                        <td id=\"T_f199984e_1a57_11ea_a28b_c83dd440757erow2_col9\" class=\"data row2 col9\" >0</td>\n            </tr>\n            <tr>\n                        <th id=\"T_f199984e_1a57_11ea_a28b_c83dd440757elevel0_row3\" class=\"row_heading level0 row3\" >F4</th>\n                        <td id=\"T_f199984e_1a57_11ea_a28b_c83dd440757erow3_col0\" class=\"data row3 col0\" >0</td>\n                        <td id=\"T_f199984e_1a57_11ea_a28b_c83dd440757erow3_col1\" class=\"data row3 col1\" >0</td>\n                        <td id=\"T_f199984e_1a57_11ea_a28b_c83dd440757erow3_col2\" class=\"data row3 col2\" >0</td>\n                        <td id=\"T_f199984e_1a57_11ea_a28b_c83dd440757erow3_col3\" class=\"data row3 col3\" >1</td>\n                        <td id=\"T_f199984e_1a57_11ea_a28b_c83dd440757erow3_col4\" class=\"data row3 col4\" >0</td>\n                        <td id=\"T_f199984e_1a57_11ea_a28b_c83dd440757erow3_col5\" class=\"data row3 col5\" >0</td>\n                        <td id=\"T_f199984e_1a57_11ea_a28b_c83dd440757erow3_col6\" class=\"data row3 col6\" >0</td>\n                        <td id=\"T_f199984e_1a57_11ea_a28b_c83dd440757erow3_col7\" class=\"data row3 col7\" >0</td>\n                        <td id=\"T_f199984e_1a57_11ea_a28b_c83dd440757erow3_col8\" class=\"data row3 col8\" >-1</td>\n                        <td id=\"T_f199984e_1a57_11ea_a28b_c83dd440757erow3_col9\" class=\"data row3 col9\" >0</td>\n            </tr>\n            <tr>\n                        <th id=\"T_f199984e_1a57_11ea_a28b_c83dd440757elevel0_row4\" class=\"row_heading level0 row4\" >F5</th>\n                        <td id=\"T_f199984e_1a57_11ea_a28b_c83dd440757erow4_col0\" class=\"data row4 col0\" >0</td>\n                        <td id=\"T_f199984e_1a57_11ea_a28b_c83dd440757erow4_col1\" class=\"data row4 col1\" >0</td>\n                        <td id=\"T_f199984e_1a57_11ea_a28b_c83dd440757erow4_col2\" class=\"data row4 col2\" >0</td>\n                        <td id=\"T_f199984e_1a57_11ea_a28b_c83dd440757erow4_col3\" class=\"data row4 col3\" >0</td>\n                        <td id=\"T_f199984e_1a57_11ea_a28b_c83dd440757erow4_col4\" class=\"data row4 col4\" >1</td>\n                        <td id=\"T_f199984e_1a57_11ea_a28b_c83dd440757erow4_col5\" class=\"data row4 col5\" >0</td>\n                        <td id=\"T_f199984e_1a57_11ea_a28b_c83dd440757erow4_col6\" class=\"data row4 col6\" >0</td>\n                        <td id=\"T_f199984e_1a57_11ea_a28b_c83dd440757erow4_col7\" class=\"data row4 col7\" >0</td>\n                        <td id=\"T_f199984e_1a57_11ea_a28b_c83dd440757erow4_col8\" class=\"data row4 col8\" >0</td>\n                        <td id=\"T_f199984e_1a57_11ea_a28b_c83dd440757erow4_col9\" class=\"data row4 col9\" >-1</td>\n            </tr>\n            <tr>\n                        <th id=\"T_f199984e_1a57_11ea_a28b_c83dd440757elevel0_row5\" class=\"row_heading level0 row5\" >S1</th>\n                        <td id=\"T_f199984e_1a57_11ea_a28b_c83dd440757erow5_col0\" class=\"data row5 col0\" >-1</td>\n                        <td id=\"T_f199984e_1a57_11ea_a28b_c83dd440757erow5_col1\" class=\"data row5 col1\" >0</td>\n                        <td id=\"T_f199984e_1a57_11ea_a28b_c83dd440757erow5_col2\" class=\"data row5 col2\" >0</td>\n                        <td id=\"T_f199984e_1a57_11ea_a28b_c83dd440757erow5_col3\" class=\"data row5 col3\" >0</td>\n                        <td id=\"T_f199984e_1a57_11ea_a28b_c83dd440757erow5_col4\" class=\"data row5 col4\" >0</td>\n                        <td id=\"T_f199984e_1a57_11ea_a28b_c83dd440757erow5_col5\" class=\"data row5 col5\" >1</td>\n                        <td id=\"T_f199984e_1a57_11ea_a28b_c83dd440757erow5_col6\" class=\"data row5 col6\" >0</td>\n                        <td id=\"T_f199984e_1a57_11ea_a28b_c83dd440757erow5_col7\" class=\"data row5 col7\" >0</td>\n                        <td id=\"T_f199984e_1a57_11ea_a28b_c83dd440757erow5_col8\" class=\"data row5 col8\" >0</td>\n                        <td id=\"T_f199984e_1a57_11ea_a28b_c83dd440757erow5_col9\" class=\"data row5 col9\" >0</td>\n            </tr>\n            <tr>\n                        <th id=\"T_f199984e_1a57_11ea_a28b_c83dd440757elevel0_row6\" class=\"row_heading level0 row6\" >S2</th>\n                        <td id=\"T_f199984e_1a57_11ea_a28b_c83dd440757erow6_col0\" class=\"data row6 col0\" >-1</td>\n                        <td id=\"T_f199984e_1a57_11ea_a28b_c83dd440757erow6_col1\" class=\"data row6 col1\" >-1</td>\n                        <td id=\"T_f199984e_1a57_11ea_a28b_c83dd440757erow6_col2\" class=\"data row6 col2\" >-2</td>\n                        <td id=\"T_f199984e_1a57_11ea_a28b_c83dd440757erow6_col3\" class=\"data row6 col3\" >0</td>\n                        <td id=\"T_f199984e_1a57_11ea_a28b_c83dd440757erow6_col4\" class=\"data row6 col4\" >0</td>\n                        <td id=\"T_f199984e_1a57_11ea_a28b_c83dd440757erow6_col5\" class=\"data row6 col5\" >0</td>\n                        <td id=\"T_f199984e_1a57_11ea_a28b_c83dd440757erow6_col6\" class=\"data row6 col6\" >4</td>\n                        <td id=\"T_f199984e_1a57_11ea_a28b_c83dd440757erow6_col7\" class=\"data row6 col7\" >0</td>\n                        <td id=\"T_f199984e_1a57_11ea_a28b_c83dd440757erow6_col8\" class=\"data row6 col8\" >0</td>\n                        <td id=\"T_f199984e_1a57_11ea_a28b_c83dd440757erow6_col9\" class=\"data row6 col9\" >0</td>\n            </tr>\n            <tr>\n                        <th id=\"T_f199984e_1a57_11ea_a28b_c83dd440757elevel0_row7\" class=\"row_heading level0 row7\" >S3</th>\n                        <td id=\"T_f199984e_1a57_11ea_a28b_c83dd440757erow7_col0\" class=\"data row7 col0\" >0</td>\n                        <td id=\"T_f199984e_1a57_11ea_a28b_c83dd440757erow7_col1\" class=\"data row7 col1\" >0</td>\n                        <td id=\"T_f199984e_1a57_11ea_a28b_c83dd440757erow7_col2\" class=\"data row7 col2\" >-1</td>\n                        <td id=\"T_f199984e_1a57_11ea_a28b_c83dd440757erow7_col3\" class=\"data row7 col3\" >0</td>\n                        <td id=\"T_f199984e_1a57_11ea_a28b_c83dd440757erow7_col4\" class=\"data row7 col4\" >0</td>\n                        <td id=\"T_f199984e_1a57_11ea_a28b_c83dd440757erow7_col5\" class=\"data row7 col5\" >0</td>\n                        <td id=\"T_f199984e_1a57_11ea_a28b_c83dd440757erow7_col6\" class=\"data row7 col6\" >0</td>\n                        <td id=\"T_f199984e_1a57_11ea_a28b_c83dd440757erow7_col7\" class=\"data row7 col7\" >1</td>\n                        <td id=\"T_f199984e_1a57_11ea_a28b_c83dd440757erow7_col8\" class=\"data row7 col8\" >0</td>\n                        <td id=\"T_f199984e_1a57_11ea_a28b_c83dd440757erow7_col9\" class=\"data row7 col9\" >0</td>\n            </tr>\n            <tr>\n                        <th id=\"T_f199984e_1a57_11ea_a28b_c83dd440757elevel0_row8\" class=\"row_heading level0 row8\" >S4</th>\n                        <td id=\"T_f199984e_1a57_11ea_a28b_c83dd440757erow8_col0\" class=\"data row8 col0\" >0</td>\n                        <td id=\"T_f199984e_1a57_11ea_a28b_c83dd440757erow8_col1\" class=\"data row8 col1\" >0</td>\n                        <td id=\"T_f199984e_1a57_11ea_a28b_c83dd440757erow8_col2\" class=\"data row8 col2\" >-1</td>\n                        <td id=\"T_f199984e_1a57_11ea_a28b_c83dd440757erow8_col3\" class=\"data row8 col3\" >-1</td>\n                        <td id=\"T_f199984e_1a57_11ea_a28b_c83dd440757erow8_col4\" class=\"data row8 col4\" >0</td>\n                        <td id=\"T_f199984e_1a57_11ea_a28b_c83dd440757erow8_col5\" class=\"data row8 col5\" >0</td>\n                        <td id=\"T_f199984e_1a57_11ea_a28b_c83dd440757erow8_col6\" class=\"data row8 col6\" >0</td>\n                        <td id=\"T_f199984e_1a57_11ea_a28b_c83dd440757erow8_col7\" class=\"data row8 col7\" >0</td>\n                        <td id=\"T_f199984e_1a57_11ea_a28b_c83dd440757erow8_col8\" class=\"data row8 col8\" >2</td>\n                        <td id=\"T_f199984e_1a57_11ea_a28b_c83dd440757erow8_col9\" class=\"data row8 col9\" >0</td>\n            </tr>\n            <tr>\n                        <th id=\"T_f199984e_1a57_11ea_a28b_c83dd440757elevel0_row9\" class=\"row_heading level0 row9\" >S5</th>\n                        <td id=\"T_f199984e_1a57_11ea_a28b_c83dd440757erow9_col0\" class=\"data row9 col0\" >-2</td>\n                        <td id=\"T_f199984e_1a57_11ea_a28b_c83dd440757erow9_col1\" class=\"data row9 col1\" >0</td>\n                        <td id=\"T_f199984e_1a57_11ea_a28b_c83dd440757erow9_col2\" class=\"data row9 col2\" >0</td>\n                        <td id=\"T_f199984e_1a57_11ea_a28b_c83dd440757erow9_col3\" class=\"data row9 col3\" >0</td>\n                        <td id=\"T_f199984e_1a57_11ea_a28b_c83dd440757erow9_col4\" class=\"data row9 col4\" >-1</td>\n                        <td id=\"T_f199984e_1a57_11ea_a28b_c83dd440757erow9_col5\" class=\"data row9 col5\" >0</td>\n                        <td id=\"T_f199984e_1a57_11ea_a28b_c83dd440757erow9_col6\" class=\"data row9 col6\" >0</td>\n                        <td id=\"T_f199984e_1a57_11ea_a28b_c83dd440757erow9_col7\" class=\"data row9 col7\" >0</td>\n                        <td id=\"T_f199984e_1a57_11ea_a28b_c83dd440757erow9_col8\" class=\"data row9 col8\" >0</td>\n                        <td id=\"T_f199984e_1a57_11ea_a28b_c83dd440757erow9_col9\" class=\"data row9 col9\" >3</td>\n            </tr>\n    </tbody></table>",
      "text/plain": "<pandas.io.formats.style.Styler at 0x1d1f5f3c850>"
     },
     "metadata": {},
     "output_type": "display_data"
    }
   ],
   "source": [
    "f_vals = []\n",
    "f_vecs = []\n",
    "for cons_w in Consumer_weights:\n",
    "    union_mat,laplacian,f_val,f_vec = GetEigen_WithWeights(provider_mat,consumer_mat,Provider_weight,cons_w)\n",
    "    #print(cons_w,f_vec)\n",
    "    f_vals.append(f_val)\n",
    "    f_vecs.append(f_vec.A1.tolist())\n",
    "    if cons_w==2:\n",
    "        ### display laplacian for weight 2\n",
    "        indx = ['F{}'.format(i) for i in range(1, dim+1)]\n",
    "        header = ['S{}'.format(i) for i in range(1, dim+1)]\n",
    "        union_df = pd.DataFrame(union_mat, columns= header, index = indx)\n",
    "        u=union_df.style.background_gradient(cmap='Wistia').set_caption(\"UNION\")\n",
    "        laplacian_df = pd.DataFrame(laplacian, columns= indx+header, index = indx+header)\n",
    "        lap=laplacian_df.style.background_gradient(cmap='Wistia').set_caption(\"LAPLACIAN (D-A)\")\n",
    "        display(u)\n",
    "        display(lap)\n",
    "        ####"
   ]
  },
  {
   "cell_type": "code",
   "execution_count": 45,
   "metadata": {},
   "outputs": [],
   "source": [
    "def color_negative_red(val):\n",
    "    \"\"\"\n",
    "    Takes a scalar and returns a string with\n",
    "    the css property `'color: red'` for negative\n",
    "    strings, black otherwise.\n",
    "    \"\"\"\n",
    "    color = 'orange' if val < 0 else 'green'\n",
    "    return 'background-color: %s' % color\n",
    "vheader = ['Weight {}: '.format(i) + str(x) for i,x in zip(Consumer_weights,np.around(f_vals,3))]\n",
    "header = ['S{}'.format(i) for i in range(1, dim+1)]\n",
    "indx = ['F{}'.format(i) for i in range(1, dim+1)]\n",
    "res_df = pd.DataFrame(np.around(f_vecs,5).T, columns= vheader, index = indx+header)\n",
    "pd.options.display.max_colwidth = 130\n",
    "res=res_df.style.\\\n",
    "    applymap (color_negative_red).\\\n",
    "    set_caption(\"Observer Fiedler EIGENVALUES & EIGENVECTORS\")\n",
    "#display(res) "
   ]
  },
  {
   "cell_type": "markdown",
   "metadata": {},
   "source": [
    "## Command"
   ]
  },
  {
   "cell_type": "code",
   "execution_count": 46,
   "metadata": {},
   "outputs": [
    {
     "ename": "ValueError",
     "evalue": "too many values to unpack (expected 3)",
     "output_type": "error",
     "traceback": [
      "\u001b[1;31m---------------------------------------------------------------------------\u001b[0m",
      "\u001b[1;31mValueError\u001b[0m                                Traceback (most recent call last)",
      "\u001b[1;32m<ipython-input-46-6ba562ccaa49>\u001b[0m in \u001b[0;36m<module>\u001b[1;34m\u001b[0m\n\u001b[0;32m     23\u001b[0m \u001b[0mf2_vecs\u001b[0m \u001b[1;33m=\u001b[0m \u001b[1;33m[\u001b[0m\u001b[1;33m]\u001b[0m\u001b[1;33m\u001b[0m\u001b[1;33m\u001b[0m\u001b[0m\n\u001b[0;32m     24\u001b[0m \u001b[1;32mfor\u001b[0m \u001b[0mcons_w\u001b[0m \u001b[1;32min\u001b[0m \u001b[0mConsumer_weights\u001b[0m\u001b[1;33m:\u001b[0m\u001b[1;33m\u001b[0m\u001b[1;33m\u001b[0m\u001b[0m\n\u001b[1;32m---> 25\u001b[1;33m     \u001b[0mlaplacian\u001b[0m\u001b[1;33m,\u001b[0m\u001b[0mf_val\u001b[0m\u001b[1;33m,\u001b[0m\u001b[0mf_vec\u001b[0m \u001b[1;33m=\u001b[0m \u001b[0mGetEigen_WithWeights\u001b[0m\u001b[1;33m(\u001b[0m\u001b[0mprovider_mat\u001b[0m\u001b[1;33m,\u001b[0m\u001b[0mconsumer_mat\u001b[0m\u001b[1;33m,\u001b[0m\u001b[0mProvider_weight\u001b[0m\u001b[1;33m,\u001b[0m\u001b[0mcons_w\u001b[0m\u001b[1;33m)\u001b[0m\u001b[1;33m\u001b[0m\u001b[1;33m\u001b[0m\u001b[0m\n\u001b[0m\u001b[0;32m     26\u001b[0m     \u001b[1;31m#print(cons_w,f_vec)\u001b[0m\u001b[1;33m\u001b[0m\u001b[1;33m\u001b[0m\u001b[1;33m\u001b[0m\u001b[0m\n\u001b[0;32m     27\u001b[0m     \u001b[0mf2_vals\u001b[0m\u001b[1;33m.\u001b[0m\u001b[0mappend\u001b[0m\u001b[1;33m(\u001b[0m\u001b[0mf_val\u001b[0m\u001b[1;33m)\u001b[0m\u001b[1;33m\u001b[0m\u001b[1;33m\u001b[0m\u001b[0m\n",
      "\u001b[1;31mValueError\u001b[0m: too many values to unpack (expected 3)"
     ]
    }
   ],
   "source": [
    "provider_str = \"\"\"\n",
    "1\t1\t0\t0\t0\n",
    "0\t1\t0\t0\t0\n",
    "0\t0\t1\t1\t0\n",
    "0\t0\t0\t1\t0\n",
    "0\t0\t0\t0\t1\n",
    "\"\"\"\n",
    "consumer_str = \"\"\"\n",
    "0\t0\t0\t0\t1\n",
    "0\t0\t0\t0\t0\n",
    "0\t1\t0\t0\t0\n",
    "0\t0\t0\t0\t0\n",
    "0\t0\t0\t0\t0\n",
    "\"\"\"\n",
    "mat = np.fromstring(provider_str, dtype=int, sep='\\t')  # Matrix mat elements from mstring\n",
    "dim = int(math.sqrt(mat.size))    # Matrix Dimension dim from matrix mat\n",
    "provider_mat = np.reshape(mat, (dim, dim))  # reshape Matrix mat to square\n",
    "\n",
    "mat = np.fromstring(consumer_str, dtype=int, sep='\\t')  # Matrix mat elements from mstring\n",
    "consumer_mat = np.reshape(mat, (dim, dim))  # reshape Matrix mat to square\n",
    "\n",
    "f2_vals = []\n",
    "f2_vecs = []\n",
    "for cons_w in Consumer_weights:\n",
    "    laplacian,f_val,f_vec = GetEigen_WithWeights(provider_mat,consumer_mat,Provider_weight,cons_w)\n",
    "    #print(cons_w,f_vec)\n",
    "    f2_vals.append(f_val)\n",
    "    f2_vecs.append(f_vec.A1.tolist())\n",
    "    if cons_w==2:\n",
    "        ### display laplacian for weight 2\n",
    "        indx = ['F{}'.format(i) for i in range(1, dim+1)]\n",
    "        header = ['S{}'.format(i) for i in range(1, dim+1)]\n",
    "        laplacian_df = pd.DataFrame(laplacian, columns= indx+header, index = indx+header)\n",
    "        lap=laplacian_df.style.background_gradient(cmap='Wistia').set_caption(\"LAPLACIAN (D-A)\")\n",
    "        display(lap)\n",
    "        ####\n",
    "\n",
    "vheader = ['Weight {}: '.format(i) + str(x) for i,x in zip(Consumer_weights,np.around(f2_vals,3))]\n",
    "header = ['S{}'.format(i) for i in range(1, dim+1)]\n",
    "indx = ['F{}'.format(i) for i in range(1, dim+1)]\n",
    "res_df = pd.DataFrame(np.around(f2_vecs,5).T, columns= vheader, index = indx+header)\n",
    "pd.options.display.max_colwidth = 130\n",
    "res1=res_df.style.\\\n",
    "    applymap (color_negative_red).\\\n",
    "    set_caption(\"Command Fiedler EIGENVALUES & EIGENVECTORS\")"
   ]
  },
  {
   "cell_type": "code",
   "execution_count": 0,
   "metadata": {},
   "outputs": [],
   "source": [
    "ax = plt.gca()\n",
    "df = pd.DataFrame({\n",
    "    'Weights':Consumer_weights,\n",
    "    'Observer Fiedler values':f_vals,\n",
    "    'Command Fiedler values':f2_vals})\n",
    "df.plot(kind='line',x='Weights',y='Observer Fiedler values',color='red', ax=ax)\n",
    "df.plot(kind='line',x='Weights',y='Command Fiedler values',color='blue', ax=ax)\n",
    "display(res) \n",
    "display(res1) \n",
    "display(f_vals)\n",
    "display(f2_vals)\n"
   ]
  },
  {
   "cell_type": "code",
   "execution_count": null,
   "metadata": {},
   "outputs": [],
   "source": []
  }
 ],
 "metadata": {
  "file_extension": ".py",
  "kernelspec": {
   "display_name": "Python 3",
   "language": "python",
   "name": "python3"
  },
  "language_info": {
   "codemirror_mode": {
    "name": "ipython",
    "version": 3
   },
   "file_extension": ".py",
   "mimetype": "text/x-python",
   "name": "python",
   "nbconvert_exporter": "python",
   "pygments_lexer": "ipython3",
   "version": "3.8.0"
  },
  "mimetype": "text/x-python",
  "name": "python",
  "npconvert_exporter": "python",
  "pygments_lexer": "ipython3",
  "version": 3
 },
 "nbformat": 4,
 "nbformat_minor": 2
}